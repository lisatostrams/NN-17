{
 "cells": [
  {
   "cell_type": "markdown",
   "metadata": {
    "collapsed": true
   },
   "source": [
    "In this assignment you will gain more insight into Hopfield networks and Boltzmann machines. Always show how you arrived at your answer. Hand in your assignment by adding the solutions to this notebook file."
   ]
  },
  {
   "cell_type": "markdown",
   "metadata": {},
   "source": [
    "<H3>Exercise 1 (2 points)</H3>\n",
    "\n",
    "Consider a Hopfield network consisting of two variables $x_1$ and $x_2$ with thresholds $\\theta_1 = 0.5$ and $\\theta_2 = 0.5$ and a weight $w_{ij} = -1$. This network implements a so-called flip-flop. What is the energy function of this network, what are the possible energy levels, and what are the stable states?\n"
   ]
  },
  {
   "cell_type": "markdown",
   "metadata": {},
   "source": [
    "Answer:<br>\n",
    "E(x$_1$,x$_2$) = x$_1$x$_2$ - 0.5x$_1$ - 0.5x$_2$<br>\n",
    "The possible energy levels are (1, 1), (1, −1), (−1, 1) and (−1, −1). <br>\n",
    "The stable states are (-1, 1) and (1, -1)."
   ]
  },
  {
   "cell_type": "markdown",
   "metadata": {},
   "source": [
    "<H3>Exercise 2 (2 points)</H3>\n",
    "\n",
    "Consider a Hopfield network with\n",
    "\\begin{equation}\n",
    "\\mathbf{W} =\n",
    "\\left[\n",
    "\\begin{array}{llll}\n",
    "0 & -0.2 & -0.4 & 0\\\\\n",
    "-0.2 & 0 & 0.5 & 0.3\\\\\n",
    "-0.4 & 0.5 & 0 & 0.8\\\\\n",
    "0 & 0.3 & 0.8 & 0\n",
    "\\end{array}\n",
    "\\right]\n",
    "\\end{equation}\n",
    "and \n",
    "$\\boldsymbol{\\theta} = (-0.5,-0.3,-0.8,0.2)$.\n",
    "What is the state of the Hopfield network after one sequential update of the first, second, third and fourth node when we start at the initial state $\\mathbf{x} = (0,1,1,1)$? What do you conclude?"
   ]
  },
  {
   "cell_type": "markdown",
   "metadata": {},
   "source": [
    "Answer:<br>\n",
    "The state remains the same (0, 1, 1, 1) because the thresholds are too low to change any of the positive states to negative. Therefore this is a stable state."
   ]
  },
  {
   "cell_type": "markdown",
   "metadata": {},
   "source": [
    "<H3>Exercise 4 (3 points)</H3>\n",
    "\n",
    "In this exercise you will test the Hopfield model as a constraint satisfaction system. Implement a function *optimize* which takes an argument $n$ and returns a length $n$ vector with all zeros except for a single one. This vector should be produced by running a Hopfield net with specific weights and thresholds (as dictated by this constraint satisfaction problem) until convergence. Show that your function works for different values of $n$.\n"
   ]
  },
  {
   "cell_type": "markdown",
   "metadata": {},
   "source": [
    "<H3>Exercise 5 (3 points)</H3>\n",
    "\n",
    "You will now implement your own Hopfield network and test its associative memory properties. In this exercise you can ignore the bias term and use the bipolar representation.\n",
    "* Below we provide the code to preprocess two images; call them $\\mathbf{x}_1$ and $\\mathbf{x}_2$. We also provide the code to evaluate Hopfield net training and testing\n",
    "* Write a function *w = hoptrain(x)* which takes a list of input patterns as argument and returns weights $\\mathbf{w}$ for a trained Hopfield network.\n",
    "* Write a function *y = hoptest(w,x,n)* which takes learned weights $\\mathbf{w}$ and an input pattern $\\mathbf{x}$ and updates all units in random order for $n$ times. The return value should be the updated states of the Hopfield network.\n",
    "* Test your Hopfield net by using $\\mathbf{x}_1$ and $\\mathbf{x}_2$ as an input pattern under different amounts of corruption (randomly changing pixel values). Visualise the corrupted images and the reconstructions. Comment on your findings."
   ]
  },
  {
   "cell_type": "code",
   "execution_count": null,
   "metadata": {
    "collapsed": false
   },
   "outputs": [],
   "source": [
    "#matplotlib inline\n",
    "\n",
    "import urllib2\n",
    "import matplotlib.image as mpimg\n",
    "import matplotlib.pyplot as plt\n",
    "import scipy.misc as sp\n",
    "\n",
    "f=urllib2.urlopen(\"https://upload.wikimedia.org/wikipedia/en/2/24/Lenna.png\")\n",
    "\n",
    "x1 = mpimg.imread(f)\n",
    "x1 = np.mean(sp.imresize(x1,10),2)\n",
    "x1[x1 < np.mean(x1.flatten())] = -1    # Black\n",
    "x1[x1 >= np.mean(x1.flatten())] = 1 # White\n",
    "x1.astype('int32')\n",
    "\n",
    "x2 = np.fliplr(x1)\n",
    "\n",
    "plt.figure()\n",
    "plt.subplot(121)\n",
    "imgplot = plt.imshow(x1, cmap='gray')\n",
    "plt.axis('off')\n",
    "plt.subplot(122)\n",
    "imgplot = plt.imshow(x2, cmap='gray')\n",
    "plt.axis('off')\n",
    "plt.show()"
   ]
  },
  {
   "cell_type": "code",
   "execution_count": null,
   "metadata": {
    "collapsed": false
   },
   "outputs": [],
   "source": [
    "# train Hopfield net\n",
    "\n",
    "w = hoptrain([x1,x2])\n",
    "\n",
    "# corrupt images\n",
    "\n",
    "n = np.floor(x1.size/2)\n",
    "\n",
    "cx1 = x1.copy()\n",
    "p = np.random.permutation(x1.size)\n",
    "cx1[np.unravel_index(p[:n],x1.shape)] = np.random.randint(0,1,n)\n",
    "\n",
    "cx2 = x2.copy()\n",
    "p = np.random.permutation(x2.size)\n",
    "cx2[np.unravel_index(p[:n],x2.shape)] = np.random.randint(0,1,n)\n",
    "\n",
    "# test associative memory properties\n",
    "\n",
    "p1 = hoptest(cx1,w,1)\n",
    "p2 = hoptest(cx2,w,2)\n",
    "\n",
    "plt.figure()\n",
    "plt.subplot(221)\n",
    "imgplot = plt.imshow(cx1, cmap='gray')\n",
    "plt.axis('off')\n",
    "plt.subplot(222)\n",
    "imgplot = plt.imshow(cx2, cmap='gray')\n",
    "plt.axis('off')\n",
    "plt.show()\n",
    "plt.subplot(221)\n",
    "imgplot = plt.imshow(p1, cmap='gray')\n",
    "plt.axis('off')\n",
    "plt.subplot(222)\n",
    "imgplot = plt.imshow(p2, cmap='gray')\n",
    "plt.axis('off')\n",
    "plt.show()\n",
    "\n",
    "\n",
    "def optimize(n):\n",
    "    "
   ]
  }
 ],
 "metadata": {
  "anaconda-cloud": {},
  "kernelspec": {
   "display_name": "Python 2",
   "language": "python",
   "name": "python2"
  },
  "language_info": {
   "codemirror_mode": {
    "name": "ipython",
    "version": 2
   },
   "file_extension": ".py",
   "mimetype": "text/x-python",
   "name": "python",
   "nbconvert_exporter": "python",
   "pygments_lexer": "ipython2",
   "version": "2.7.13"
  }
 },
 "nbformat": 4,
 "nbformat_minor": 0
}
