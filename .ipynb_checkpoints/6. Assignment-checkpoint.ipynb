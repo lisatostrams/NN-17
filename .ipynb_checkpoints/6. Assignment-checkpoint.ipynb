{
 "cells": [
  {
   "cell_type": "markdown",
   "metadata": {},
   "source": [
    "In this assignment you will work on RBF networks. Always show how you arrived at your answer. Hand in your assignment by adding the solutions to this notebook file."
   ]
  },
  {
   "cell_type": "markdown",
   "metadata": {},
   "source": [
    "<H3>Exercise 1 (7 points)</H3>\n",
    "\n",
    "In this exercise you will implement an RBF network yourself. First training and test data is created by taking random 2D coordinates as input data $\\mathbf{X}$ and a function output at those coordinates as output data $\\mathbf{Y}$."
   ]
  },
  {
   "cell_type": "code",
   "execution_count": 1,
   "metadata": {
    "collapsed": false
   },
   "outputs": [
    {
     "name": "stdout",
     "output_type": "stream",
     "text": [
      "(2L, 900L)\n"
     ]
    }
   ],
   "source": [
    "from mpl_toolkits.mplot3d import axes3d\n",
    "import matplotlib.pyplot as plt\n",
    "import numpy as np\n",
    "\n",
    "X, Y, Z = axes3d.get_test_data(0.1)\n",
    "\n",
    "# sample training data points\n",
    "X_train = np.vstack([X[::2,::2].flatten(), Y[::2,::2].flatten()])\n",
    "T_train = Z[::2,::2].flatten()\n",
    "\n",
    "# sample test data points\n",
    "X_test = np.vstack([X[1::2,1::2].flatten(), Y[1::2,1::2].flatten()])\n",
    "T_test = Z[1::2,1::2].flatten()\n"
   ]
  },
  {
   "cell_type": "markdown",
   "metadata": {},
   "source": [
    "We now provide an implementation of RBF_train and RBF_test functions, as well as a script to test whether the trained RBF can approximate the function we wish to learn. Note that the RBF_train function is incomplete. It is up to you to write that function and show that the function of interest can be learned. You can for simplicity select datapoints at random to define the centers of your kernel. You can use scipy's *pdist* and *pinv* functions to simplify your code."
   ]
  },
  {
   "cell_type": "code",
   "execution_count": null,
   "metadata": {
    "collapsed": false
   },
   "outputs": [],
   "source": [
    "import numpy as np\n",
    "from scipy.spatial.distance import pdist\n",
    "from scipy.linalg import pinv\n",
    "import random\n",
    "\n",
    "def rbf_train(K, X, T):\n",
    "    # input:\n",
    "    # M x N training samples X\n",
    "    # 1 x N target outputs T\n",
    "    #\n",
    "    # output:\n",
    "    # K x M prototype vectors mu\n",
    "    # 1 x 1 scalar Gaussian with sigma\n",
    "    # K x 1 output weights w\n",
    "\n",
    "    [M,N] = X.shape\n",
    "    \n",
    "\n",
    "    # select K datapoints at random\n",
    "\n",
    "    mu = random.sample(X.T, K)\n",
    "\n",
    "    # compute global distance parameter\n",
    "    \n",
    "    d_max = max(pdist(mu))\n",
    "    sigma = d_max/(np.sqrt(2*K))\n",
    "        \n",
    "    # compute w\n",
    "    hidden = np.zeros([N,K])\n",
    "    for n in range(N):\n",
    "        for k in range(K):\n",
    "            hidden[0,k] = np.exp(-(1/(2*sigma**2))*norm(X[:,n]-mu[:,k])**2);\n",
    "\n",
    "    w = np.dot(pinv(hidden), T)   \n",
    "    \n",
    "    \n",
    "    return [mu, sigma, w]"
   ]
  },
  {
   "cell_type": "code",
   "execution_count": null,
   "metadata": {
    "collapsed": false
   },
   "outputs": [],
   "source": [
    "from numpy.linalg import norm\n",
    "\n",
    "def rbf_test(X, mu, sigma, w):\n",
    "    # input:\n",
    "    # M x N samples X\n",
    "    # M x K prototype vectors mu\n",
    "    # 1 x 1 scalar Gaussian with sigma\n",
    "    # K x 1 output weights w\n",
    "    #\n",
    "    # output:\n",
    "    # output activations aO and hidden activations aH for an RBF network\n",
    "\n",
    "    N = X.shape[1]\n",
    "    K = mu.shape[1]\n",
    "\n",
    "    aH = np.zeros([K,N])\n",
    "    aO = np.zeros([1,N])\n",
    "\n",
    "    for n in range(N):\n",
    "\n",
    "        hidden = np.zeros([1,K])\n",
    "        for k in range(K):\n",
    "            hidden[0,k] = np.exp(-(1/(2*sigma**2))*norm(X[:,n]-mu[:,k])**2);\n",
    "\n",
    "        output = np.dot(hidden,w)\n",
    "\n",
    "        aH[:,n] = hidden\n",
    "        aO[0,n] = output\n",
    "\n",
    "    return [aO, aH]"
   ]
  },
  {
   "cell_type": "markdown",
   "metadata": {},
   "source": [
    "Train and test RBF and plot the ground truth and the estimate for the test data to check if the function was well-approximated. "
   ]
  },
  {
   "cell_type": "code",
   "execution_count": null,
   "metadata": {
    "collapsed": false
   },
   "outputs": [],
   "source": [
    "%matplotlib inline\n",
    "import matplotlib.pyplot as plt\n",
    "from mpl_toolkits.mplot3d import Axes3D\n",
    "\n",
    "# run RBF training with 50 kernels\n",
    "[mu,sigma,w] = rbf_train(50, X_train, T_train)\n",
    "\n",
    "# predict outputs using RBF network\n",
    "[Y_test,_] = rbf_test(X_test,mu,sigma,w)\n",
    "\n",
    "# plot the outputs\n",
    "fig = plt.figure()\n",
    "ax = fig.add_subplot(121, projection='3d')\n",
    "ax.plot_wireframe(X_test[0,:],X_test[1,:],T_test)\n",
    "plt.title('ground truth');\n",
    "ax = fig.add_subplot(122, projection='3d')\n",
    "ax.plot_wireframe(X_test[0,:],X_test[1,:],Y_test)\n",
    "plt.title('estimate');"
   ]
  },
  {
   "cell_type": "markdown",
   "metadata": {},
   "source": [
    "<H3>Exercise 2 (3 points)</H3>\n",
    "\n",
    "Finally, run the RBF algorithm with a varying number of kernels *k* and show how the interpolation performance changes as a function of *k*. Use up to 30 kernels for this analysis."
   ]
  },
  {
   "cell_type": "code",
   "execution_count": null,
   "metadata": {
    "collapsed": false
   },
   "outputs": [],
   "source": [
    " # Add your solution here."
   ]
  }
 ],
 "metadata": {
  "kernelspec": {
   "display_name": "Python 2",
   "language": "python",
   "name": "python2"
  },
  "language_info": {
   "codemirror_mode": {
    "name": "ipython",
    "version": 2
   },
   "file_extension": ".py",
   "mimetype": "text/x-python",
   "name": "python",
   "nbconvert_exporter": "python",
   "pygments_lexer": "ipython2",
   "version": "2.7.13"
  }
 },
 "nbformat": 4,
 "nbformat_minor": 0
}
