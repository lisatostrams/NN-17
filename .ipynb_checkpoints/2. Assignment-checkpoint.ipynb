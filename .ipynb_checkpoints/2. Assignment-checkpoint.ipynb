{
 "cells": [
  {
   "cell_type": "markdown",
   "metadata": {
    "collapsed": true
   },
   "source": [
    "In this first assignment you will practice with some of the mathematical techniques that are required in order to develop neural networks. You will also implement some simple functions to build an intuition for what neural networks are. Always show how you arrived at your answer. Hand in your assignment by adding the solutions to this notebook file. Consult a page on markdown language and a page on LaTeX in order to learn how to write down your solutions."
   ]
  },
  {
   "cell_type": "markdown",
   "metadata": {
    "collapsed": true
   },
   "source": [
    "<H3>Exercise 1 (4 points)</H3>\n",
    "We start with some preparatory math exercises. Let $\\mathbf{x} = (1,2)^T$, $\\mathbf{y} = (-1,1)^T$ and $\\mathbf{Z} = \n",
    "\\left(\n",
    "\\begin{array}{cc}\n",
    "1 & 2 \\\\\n",
    "3 & 4\n",
    "\\end{array}\n",
    "\\right)\n",
    "$.\n",
    "1. What is the length (norm) of the vector $\\mathbf{x}$\n",
    "2. How much is $\\mathbf{x}^T\\mathbf{y}$\n",
    "3. How much is $\\mathbf{Z}\\mathbf{x}$?\n",
    "4. What is the angle between $\\mathbf{x}$ and $\\mathbf{y}$ in degrees?"
   ]
  },
  {
   "cell_type": "markdown",
   "metadata": {},
   "source": [
    "<H3>Solution 1</H3>\n",
    "\n",
    "1. $norm(x) = \\sqrt(1^2 + 2^2) = \\sqrt 5$\n",
    "2. $x^Ty = 1*-1 + 2*1 = 1 $\n",
    "3. $Zx = (1*1 + 2*2, 3*1 + 4*2)^T = (5,11)^T$\n",
    "4. $cos(\\theta) = \\frac{\\langle x,y\\rangle}{\\left\\lVert x \\right\\rVert \\left\\lVert y \\right\\rVert} = \\frac{1}{\\sqrt 5 \\sqrt 2} = 0.3162$ which corresponds to 71.5651 degrees (rad). "
   ]
  },
  {
   "cell_type": "markdown",
   "metadata": {},
   "source": [
    "<H3>Exercise 2 (2 points)</H3>\n",
    "\n",
    "You will now practice with partial derivatives. \n",
    "\n",
    "1. Let $\\mathbf{x} = (x_1,\\ldots,x_n)^T$ and $f(\\mathbf{x}) = \\mathbf{x}^T\\mathbf{x}$. Write down the expression for the partial derivative $\\frac{\\partial f}{\\partial x_i}$. \n",
    "Hint: rewrite the function $f(\\mathbf{x})$ in terms of scalars instead of vectors. Consult previous courses and background material online to brush up on partial derivatives. Note that for a partial derivative w.r.t. $x_i$ we assume all the other variables to be constants. Tip: often we can directly compute (partial) derivatives of matrix expressions. Consult http://www2.imm.dtu.dk/pubdb/views/publication_details.php?id=3274 for a useful reference on matrix manipulation. \n",
    "2. Often, we need to compute the gradient of a particular function. Given a function $f(x_1,\\ldots,x_n)$, the gradient is just a collection of partial derivatives:\n",
    "\\begin{equation*}\n",
    "\\nabla f = \\left(\\frac{\\partial f}{\\partial x_1}, \\ldots,\\frac{\\partial f}{\\partial x_n}\\right) \\,.\n",
    "\\end{equation*}\n",
    "Consider the function $f(x,y) = - (\\cos^2 x + \\cos^2 y)^2$. Derive the gradient $\\nabla f = \\left(\\frac{\\partial f}{\\partial x},\\frac{\\partial f}{\\partial y}\\right)$."
   ]
  },
  {
   "cell_type": "markdown",
   "metadata": {},
   "source": [
    "<H3>Solution 2</H3>\n",
    "\n",
    "1. $\\frac{\\partial f}{\\partial x_i} = \\frac{\\partial (x_1^2 + \\dots + x_i^2 + \\dots + x_n^2}{\\partial x_i} = 2x_i $.\n",
    "\n",
    "2. \n",
    "\n",
    "$ f(x,y) = - (\\cos^2 x + \\cos^2 y)^2 $\n",
    "\n",
    "$ g(h(x,y)) = -h(x,y)^2 $ and $g'(h(x,y)) = -2h(x,y) \n",
    "\n",
    "$ h(x,y) = \\cos^2 x + \\cos^2 y $\n",
    "\n",
    "$ \\frac{\\partial h}{\\partial x} = \\frac{\\partial \\cos^2 x }{\\partial x} + \\frac{\\partial \\cos^2 y }{\\partial x} = -\\sin 2x + 0 = -\\sin 2x$\n",
    "\n",
    "$ \\frac{\\partial h}{\\partial y} = \\frac{\\partial \\cos^2 x }{\\partial y} + \\frac{\\partial \\cos^2 y }{\\partial y} =  0 + -\\sin 2y  = -\\sin 2y$\n",
    "\n",
    "$ f'(x,y) = g'(h(x,y)) * h'(x,y) $\n",
    "\n",
    "$\\frac{\\partial f}{\\partial x} =  -2(\\cos^2 x + \\cos^2 y) * -\\sin 2x $\n",
    "\n",
    "$\\frac{\\partial f}{\\partial y} =  -2(\\cos^2 x + \\cos^2 y) * -\\sin 2y $\n",
    "\n",
    "$\\nabla f = \\left(-2(\\cos^2 x + \\cos^2 y) * -\\sin 2x,-2(\\cos^2 x + \\cos^2 y) * -\\sin 2y\\right)$"
   ]
  },
  {
   "cell_type": "markdown",
   "metadata": {},
   "source": [
    "<H3>Exercise 3 (2 points)</H3>\n",
    "\n",
    "Let's practice with some basic probability theory. \n",
    "\n",
    "1. Write down the logarithm of a univariate Gaussian $\\mathcal{N}(x ; \\mu, \\sigma^2)$ with mean $\\mu$ and variance $\\sigma^2$ and simplify where possible\n",
    "2. Compute $\\frac{\\partial \\log \\mathcal{N}(x ; \\mu, \\sigma^2)}{\\partial \\mu}$ and simplify where possible"
   ]
  },
  {
   "cell_type": "markdown",
   "metadata": {},
   "source": [
    "<H3>Solution 3</H3>\n",
    "\n",
    "1. $\\mathcal{N}(x ; \\mu, \\sigma^2) =  (2\\pi)^{-\\frac{1}{2}}  (\\sigma^2)^{-\\frac{1}{2}} \\exp \\left( -\\frac{1}{2} (x - \\mu)^T (\\sigma^2)^{-1} (x-\\mu)\\right) = \\frac{1}{\\sqrt{2\\pi}} \\frac{1}{\\sqrt{\\sigma^2}}  \\exp \\left( -\\frac{1}{2} (x - \\mu) \\frac{1}{\\sigma^2} (x-\\mu)\\right) = \\frac{1}{\\sqrt{2\\pi} \\sigma}  \\exp \\left( -\\frac{1}{2} \\frac{1}{\\sigma^2} (x-\\mu)^2\\right) = \\frac{1}{\\sqrt{2\\pi} \\sigma}  = \\frac{ \\exp \\left( -\\frac{(x-\\mu)^2}{2 \\sigma^2} \\right)}{\\sqrt{2\\pi} \\sigma} $\n",
    "\n",
    "and the logarithm of that:\n",
    "\n",
    "$ \\log\\left(\\frac{ \\exp \\left( -\\frac{(x-\\mu)^2}{2 \\sigma^2} \\right)}{\\sqrt{2\\pi} \\sigma} \\right) = \\log\\left( \\exp \\left( -\\frac{(x-\\mu)^2}{2 \\sigma^2} \\right)\\right) - \\log\\left(\\sqrt{2\\pi} \\sigma \\right) = \\left( -\\frac{(x-\\mu)^2}{2 \\sigma^2} \\right) - \\log\\left(\\sqrt{2\\pi} \\sigma \\right)$\n",
    "\n",
    "2. $\\frac{\\partial \\log \\mathcal{N}(x ; \\mu, \\sigma^2)}{\\partial \\mu} = \\frac{\\partial  \\left( -\\frac{(x-\\mu)^2}{2 \\sigma^2} \\right) - \\log\\left(\\sqrt{2\\pi} \\sigma \\right)}{\\partial \\mu} $\n",
    "\n",
    "$ y = \\frac{\\partial  \\left( -\\frac{(u)^2}{2 \\sigma^2} \\right) - C}{\\partial \\mu} $ with $ u = x-\\mu$ then $u' = -1$ and $y'= -\\frac{2u}{2\\sigma^2}$ so:\n",
    "\n",
    "$\\frac{\\partial  \\left( -\\frac{(x-\\mu)^2}{2 \\sigma^2} \\right) - \\log\\left(\\sqrt{2\\pi} \\sigma \\right)}{\\partial \\mu} = \\frac{2(x-\\mu)}{2\\sigma^2}$\n",
    "\n"
   ]
  },
  {
   "cell_type": "markdown",
   "metadata": {},
   "source": [
    "<H3>Exercise 4 (2 points)</H3>\n",
    "\n",
    "Now write a function $f$ which computes $\\frac{\\partial \\log \\mathcal{N}(x ; \\mu, \\sigma^2)}{\\partial \\mu}$ for arbitrary values of $x$, $\\mu$ and $\\sigma^2$. Use this function to plot $f(x,\\mu, \\sigma^2)$ as you keep $x = 1$, $\\sigma^2 = 1$ and vary $\\mu$. That is, the x-axis of the plot should show $\\mu$ and the y-axis should show $f(x,\\mu, \\sigma^2)$."
   ]
  },
  {
   "cell_type": "code",
   "execution_count": 14,
   "metadata": {
    "collapsed": false
   },
   "outputs": [
    {
     "name": "stdout",
     "output_type": "stream",
     "text": [
      "0\n"
     ]
    },
    {
     "data": {
      "text/plain": [
       "<matplotlib.text.Text at 0x8469978>"
      ]
     },
     "execution_count": 14,
     "metadata": {},
     "output_type": "execute_result"
    },
    {
     "data": {
      "image/png": "[encoded data removed]",
      "text/plain": [
       "<matplotlib.figure.Figure at 0x84482b0>"
      ]
     },
     "metadata": {},
     "output_type": "display_data"
    }
   ],
   "source": [
    "# Add your solution here.\n",
    "import numpy\n",
    "%matplotlib inline\n",
    "import matplotlib.pyplot as plt\n",
    "\n",
    "def univariate_gaussian(x, mu, sigma_squared):\n",
    "    return (2*(x-mu))/(2*sigma_squared)\n",
    "\n",
    "\n",
    "print univariate_gaussian(1, 1, 1)\n",
    "\n",
    "mu = numpy.linspace(-10, 1, num=1000)\n",
    "y = [univariate_gaussian(1, m, 1) for m in mu]\n",
    "\n",
    "fig, ax = plt.subplots()\n",
    "ax.plot(mu, y)\n",
    "plt.xlabel('mu')\n",
    "plt.ylabel('f(1,mu,1)')"
   ]
  },
  {
   "cell_type": "markdown",
   "metadata": {},
   "source": [
    "The plot shows that if we take tiny steps in the direction of the partial derivative then the derivative will be zero at $\\mu=1$. Hence, we can find the optimal value of $\\mu$ like this."
   ]
  },
  {
   "cell_type": "markdown",
   "metadata": {},
   "source": [
    "In large and complex neural networks, the workhorse typically remains some form of updating based on derivatives. However, computing the derivatives can be cumbersome for large models. That's why modern neural network packages (TensorFlow, Chainer, Theano, etc.) use [automatic differentiation](https://en.wikipedia.org/wiki/Automatic_differentiation). "
   ]
  }
 ],
 "metadata": {
  "anaconda-cloud": {},
  "kernelspec": {
   "display_name": "Python 2",
   "language": "python",
   "name": "python2"
  },
  "language_info": {
   "codemirror_mode": {
    "name": "ipython",
    "version": 2
   },
   "file_extension": ".py",
   "mimetype": "text/x-python",
   "name": "python",
   "nbconvert_exporter": "python",
   "pygments_lexer": "ipython2",
   "version": "2.7.13"
  }
 },
 "nbformat": 4,
 "nbformat_minor": 0
}
