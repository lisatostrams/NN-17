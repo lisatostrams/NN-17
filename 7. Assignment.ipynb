{
 "cells": [
  {
   "cell_type": "markdown",
   "metadata": {},
   "source": [
    "In this assignment you will work on self-organizing maps (SOMs). Always show how you arrived at your answer. Hand in your assignment by adding the solutions to this notebook file."
   ]
  },
  {
   "cell_type": "markdown",
   "metadata": {},
   "source": [
    "<H3>Exercise 1 (7 points)</H3>\n",
    "\n",
    "SOMs are a class of neural networks that can be used for visualization and analysis of high- dimensional data. In this assignment you will implement a self-organizing map yourself."
   ]
  },
  {
   "cell_type": "markdown",
   "metadata": {},
   "source": [
    "Throughout the following assignments we will use a network layer of size 30 × 30. We will focus on the problem of mapping (x,y) coordinates to a two-dimensional lattice. The SOM has no notion of coordinates so it will need to figure out by itself that coordinates (1,1) should map to one end of the lattice and coordinates (N ,N) to the other end of the lattice.\n",
    "\n",
    "Let N denote the number of input units, K the number of network units and D the dimensionality of the network layer (e.g. D=2 defines a plane, D=3 defines a volume). The function\n",
    "\n",
    "*[weights,coords] = som(dataset,dims,niter,epsilon,sigma,dispfun)*\n",
    "\n",
    "defines a wrapper for the SOM algorithm where *dataset* is an N × M dataset consisting of M patterns, *dims* the size of the network layer (e.g. [30 30]), *niter* the number of iterations for which to run the SOM algorithm, *epsilon* the learning rate, *sigma* the standard deviation of the Gaussian neighborhood function and *dispfun* a display function which shows the state of the network layer per iteration. The *som* function returns the learnt weights and the coordinates of each network unit. We also provide a display function *display_2D_coordinates* for the assignment. Study both functions."
   ]
  },
  {
   "cell_type": "code",
   "execution_count": null,
   "metadata": {
    "collapsed": false
   },
   "outputs": [],
   "source": [
    "import numpy as np\n",
    "% matplotlib inline\n",
    "import matplotlib.pyplot as plt\n",
    "\n",
    "def display_2D_coordinates(dims,weights):\n",
    "  \n",
    "    weights = weights - np.min(weights[:])\n",
    "    weights = weights / np.max(weights[:])\n",
    "  \n",
    "    w1 = np.reshape(weights[0],dims)\n",
    "    w2 = np.reshape(weights[1],dims) \n",
    "  \n",
    "    if dims.size==2:\n",
    "        plt.figure()\n",
    "        plt.plot(w1,w2,'k')\n",
    "        plt.plot(w1.transpose(),w2.transpose(),'k') \n",
    "        plt.hold(True)\n",
    "        plt.axis('equal')\n",
    "        plt.axis([0, 1, 0, 1])\n",
    "    else:\n",
    "        raise Exception('display function does not work on higher-dimensional output')\n",
    "  \n",
    "    plt.show()\n",
    "\n",
    "def som(dataset, dims=np.array([30,30]), niter=50, epsilon=0.02, sigma=0.3, dispfun=display_2D_coordinates, dstep=None):\n",
    "# SOM self-organizing map algorithm; data is normalized between 0 and 1\n",
    "#\n",
    "# input:\n",
    "# dataset = N x M array of N x 1 input patterns\n",
    "# dims = dimensionality of the network layer (e.g. [5 5 5])\n",
    "# niter = number of steps\n",
    "# epsilon = learning rate\n",
    "# sigma = standard deviation of the Gaussian neighbourhood function\n",
    "# dispfun = display function to show online output\n",
    "# dstep = display after each dstep iterations; defaults to last iteration\n",
    "#\n",
    "# output:\n",
    "# weights = SOM weights\n",
    "\n",
    "    N = dataset.shape[0]\n",
    "    M = dataset.shape[1]\n",
    "    K = np.prod(dims)\n",
    "    D = dims.size\n",
    "\n",
    "    if dstep==None:\n",
    "        dstep = niter\n",
    "    \n",
    "    weights = 0.5 - 0.25 * (2*np.random.rand(N,K)-1)\n",
    "\n",
    "    # create coordinates\n",
    "    x = np.unravel_index(np.arange(K), dims)\n",
    "    coords = np.zeros([D,K])\n",
    "    for d in range(D):\n",
    "        coords[d] = x[d]\n",
    "    coords /= np.max(coords[:])\n",
    "  \n",
    "    # before training\n",
    "    dispfun(dims,weights)\n",
    "\n",
    "    for t in range(niter):\n",
    "    \n",
    "        for j in range(M):\n",
    "            weights = som_update(dataset[:,j],weights,coords,epsilon,sigma)\n",
    "\n",
    "        # display output\n",
    "        if not dispfun is None and np.mod(t+1,dstep)==0:\n",
    "            dispfun(dims,weights)\n",
    "        \n",
    "    return weights, coords"
   ]
  },
  {
   "cell_type": "markdown",
   "metadata": {},
   "source": [
    "Note that the function *SOM_update* is still missing. Write the som update function which implements the SOM algorithm. This function should have the form *weights = som_update(pattern,weights,coords,epsilon,sigma)* where pattern is one example in the dataset, weights are the current weights of the SOM and coords are the Euclidean coordinates associated with each network unit. See if you can use one line of python code for each of the competition, cooperation and adaptation steps. Generate the self-organizing map plots and show that it learns a correct mapping. Show results for a few different values of epsilon and sigma. Explain your findings."
   ]
  },
  {
   "cell_type": "markdown",
   "metadata": {},
   "source": [
    "<H3>Exercise 2 (3 points)</H3>\n",
    "\n",
    "Experiment with what happens if you map 10D coordinates to 2D coordinates. Explain your findings."
   ]
  },
  {
   "cell_type": "code",
   "execution_count": null,
   "metadata": {
    "collapsed": true
   },
   "outputs": [],
   "source": []
  }
 ],
 "metadata": {
  "kernelspec": {
   "display_name": "Python 2",
   "language": "python",
   "name": "python2"
  },
  "language_info": {
   "codemirror_mode": {
    "name": "ipython",
    "version": 2
   },
   "file_extension": ".py",
   "mimetype": "text/x-python",
   "name": "python",
   "nbconvert_exporter": "python",
   "pygments_lexer": "ipython2",
   "version": "2.7.11"
  }
 },
 "nbformat": 4,
 "nbformat_minor": 0
}
